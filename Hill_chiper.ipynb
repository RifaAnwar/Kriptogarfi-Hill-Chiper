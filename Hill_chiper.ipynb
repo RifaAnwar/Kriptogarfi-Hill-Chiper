{
  "cells": [
    {
      "cell_type": "markdown",
      "metadata": {
        "id": "view-in-github",
        "colab_type": "text"
      },
      "source": [
        "<a href=\"https://colab.research.google.com/github/RifaAnwar/Kriptogarfi-Hill-Chiper/blob/main/Hill_chiper.ipynb\" target=\"_parent\"><img src=\"https://colab.research.google.com/assets/colab-badge.svg\" alt=\"Open In Colab\"/></a>"
      ]
    },
    {
      "cell_type": "code",
      "execution_count": null,
      "metadata": {
        "id": "MQ6uv2OZ92Pe"
      },
      "outputs": [],
      "source": [
        "!pip install egcd"
      ]
    },
    {
      "cell_type": "code",
      "execution_count": null,
      "metadata": {
        "id": "ZxAQ7mYD-Akp"
      },
      "outputs": [],
      "source": [
        "import numpy as np\n",
        "from egcd import egcd"
      ]
    },
    {
      "cell_type": "code",
      "execution_count": null,
      "metadata": {
        "colab": {
          "background_save": true,
          "base_uri": "https://localhost:8080/"
        },
        "id": "eItLLpY0MynF",
        "outputId": "a033b070-a985-4e76-c3b2-0bff62ffbcba"
      },
      "outputs": [
        {
          "name": "stdout",
          "output_type": "stream",
          "text": [
            "Looking in indexes: https://pypi.org/simple, https://us-python.pkg.dev/colab-wheels/public/simple/\n",
            "Requirement already satisfied: egcd in /usr/local/lib/python3.9/dist-packages (0.4.3)\n",
            "masukan angka kunci dengan spasi:\n"
          ]
        }
      ],
      "source": [
        "!pip install egcd\n",
        "import numpy as np\n",
        "from egcd import egcd\n",
        "huruf=\"ABCDEFGHIJKLMNOPQRSTUVWXYZ .,\"\n",
        "huruf_ke_angka=dict(zip(huruf,range(len(huruf))))\n",
        "angka_ke_huruf=dict(zip(range(len(huruf)),huruf))\n",
        "\n",
        "def matrix_mod_inv(matrix,modulus):\n",
        "  det=int(np.round(np.linalg.det(matrix)))\n",
        "  det_inv= egcd(det,modulus)[1] % modulus\n",
        "  matrix_modulus_inv = det_inv * np.round(det*np.linalg.inv(matrix)).astype(int) % modulus\n",
        "\n",
        "  return matrix_modulus_inv\n",
        "\n",
        "def encrypt(pesan,K):\n",
        "  encrypted= \"\"\n",
        "  pesan_angka= []\n",
        "  for letter in pesan:\n",
        "    pesan_angka.append(huruf_ke_angka[letter])\n",
        "  split_P = [pesan_angka[i:i+int(K.shape[0])] for i in range(0,len(pesan_angka),int(K.shape[0]))]\n",
        "  for P in split_P:\n",
        "    P = np.transpose(np.array(P))[:, np.newaxis]\n",
        "\n",
        "    while P.shape[0] != K.shape[0]:\n",
        "      P = np.append(P, huruf_ke_angka['x'])[:, np.newaxis]\n",
        "    numbers=np.dot(K,P) % len(huruf)\n",
        "    n=numbers.shape[0]\n",
        "    for idx in range(n):\n",
        "      number=int(numbers[idx,0])\n",
        "      encrypted += angka_ke_huruf[number]\n",
        "  return encrypted\n",
        "\n",
        "def decrypt(cipher,Kinv):\n",
        "  decrypted = ''\n",
        "  cipher_in_numbers = []\n",
        "  for letter in cipher:\n",
        "    cipher_in_numbers.append(huruf_ke_angka[letter])\n",
        "  split_C = [cipher_in_numbers[i:i + int(Kinv.shape[0])]for i in range(0,len(cipher_in_numbers), int(Kinv.shape[0]))]\n",
        "  for C in split_C:\n",
        "    C=np.transpose(np.asarray(C))[:,np.newaxis]\n",
        "    numbers= np.dot(Kinv,C) % len(huruf)\n",
        "    n = numbers.shape[0]\n",
        "    for idx in range(n):\n",
        "      number = int(numbers[idx,0])\n",
        "      decrypted += angka_ke_huruf[number]\n",
        "  return decrypted\n",
        "\n",
        "def main():\n",
        "  a = 2\n",
        "  b = 2\n",
        "  print(\"masukan angka kunci dengan spasi:\")\n",
        "  val = list(map(int, input().split()))\n",
        "  K = np.array(val).reshape(a,b)\n",
        "  nama = input(\"masukan nama :\")\n",
        "  encrypted_message=encrypt(nama,K)\n",
        "  Kinv = matrix_mod_inv(K,len(huruf))\n",
        "  decrypted_message = decrypt(encrypted_message,Kinv)\n",
        "\n",
        "  print(\"Nama :\",nama)\n",
        "  print(\"Enskripsinya :\",encrypted_message)\n",
        "  print(\"deksripsinya :\",decrypted_message)\n",
        "main()"
      ]
    },
    {
      "cell_type": "code",
      "execution_count": null,
      "metadata": {
        "id": "8QBxaq4fOZai"
      },
      "outputs": [],
      "source": []
    }
  ],
  "metadata": {
    "colab": {
      "provenance": [],
      "authorship_tag": "ABX9TyO8yGu++GQ/T3JmQxJIp9xH",
      "include_colab_link": true
    },
    "kernelspec": {
      "display_name": "Python 3",
      "name": "python3"
    },
    "language_info": {
      "name": "python"
    }
  },
  "nbformat": 4,
  "nbformat_minor": 0
}